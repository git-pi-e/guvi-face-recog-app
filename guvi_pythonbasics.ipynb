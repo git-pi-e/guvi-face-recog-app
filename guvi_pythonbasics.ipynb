{
  "nbformat": 4,
  "nbformat_minor": 0,
  "metadata": {
    "colab": {
      "name": "guvi-pythonbasics.ipynb",
      "provenance": [],
      "authorship_tag": "ABX9TyNxQ8V/BPdYDTzI+P52OK2w",
      "include_colab_link": true
    },
    "kernelspec": {
      "name": "python3",
      "display_name": "Python 3"
    },
    "language_info": {
      "name": "python"
    }
  },
  "cells": [
    {
      "cell_type": "markdown",
      "metadata": {
        "id": "view-in-github",
        "colab_type": "text"
      },
      "source": [
        "<a href=\"https://colab.research.google.com/github/git-pi-e/guvi-face-recog-app/blob/main/guvi_pythonbasics.ipynb\" target=\"_parent\"><img src=\"https://colab.research.google.com/assets/colab-badge.svg\" alt=\"Open In Colab\"/></a>"
      ]
    },
    {
      "cell_type": "code",
      "metadata": {
        "colab": {
          "base_uri": "https://localhost:8080/"
        },
        "id": "MaPJj81_WCVE",
        "outputId": "37aeaeda-1a99-468c-bd57-308e8f1f7f58"
      },
      "source": [
        "yourSpeed = 70\n",
        "speedLimit = 60\n",
        "\n",
        "if yourSpeed > speedLimit:\n",
        "  print(\"Huehuehue, you're screwed\")\n",
        "elif yourSpeed == speedLimit:\n",
        "  print(\"Man why you play on the edge?\")  \n",
        "else:\n",
        "  print(\"Yeah GG, mate\")"
      ],
      "execution_count": 2,
      "outputs": [
        {
          "output_type": "stream",
          "text": [
            "Huehuehue, you're screwed\n"
          ],
          "name": "stdout"
        }
      ]
    },
    {
      "cell_type": "code",
      "metadata": {
        "colab": {
          "base_uri": "https://localhost:8080/"
        },
        "id": "8ursxKeSXJL3",
        "outputId": "f56bbfb0-9a5a-46be-e8b1-7bf97583c163"
      },
      "source": [
        "friend1 = \"Joey\"\n",
        "friend2 = \"John\"\n",
        "friend3 = \"Lizzy\"\n",
        "friend4 = \"David\"\n",
        "print(friend1, friend2, friend3, friend4)\n",
        "\n",
        "\n",
        "\n"
      ],
      "execution_count": 3,
      "outputs": [
        {
          "output_type": "stream",
          "text": [
            "Joey John Lizzy David\n"
          ],
          "name": "stdout"
        }
      ]
    },
    {
      "cell_type": "code",
      "metadata": {
        "colab": {
          "base_uri": "https://localhost:8080/"
        },
        "id": "OgjjuvrEXJWe",
        "outputId": "7ae5be4f-fba7-4b6d-c298-398dae867b8f"
      },
      "source": [
        "myFriends = [\"John\", \"Nameless\", \"One Mf\", \"Jackoff\", \"Jamal\"]   #List\n",
        "# print(myFriends[])\n",
        "\n",
        "if \"John\" in myFriends:\n",
        "  print(\"John fren\")\n",
        "else:\n",
        "  print(\"Who this takla\")"
      ],
      "execution_count": 12,
      "outputs": [
        {
          "output_type": "stream",
          "text": [
            "John fren\n"
          ],
          "name": "stdout"
        }
      ]
    },
    {
      "cell_type": "code",
      "metadata": {
        "colab": {
          "base_uri": "https://localhost:8080/"
        },
        "id": "KHzyAmogXJbF",
        "outputId": "651b6d8e-754a-4626-e3a7-8627724fa687"
      },
      "source": [
        "#Looping\n",
        "\n",
        "currentLiftFloor = 0\n",
        "liftButtonPressed = 5\n",
        "\n",
        "while currentLiftFloor < liftButtonPressed:\n",
        "  print(currentLiftFloor)\n",
        "  currentLiftFloor += 1\n",
        "\n",
        "print(currentLiftFloor)\n",
        "print(\"Get off, Blyat\")"
      ],
      "execution_count": 6,
      "outputs": [
        {
          "output_type": "stream",
          "text": [
            "0\n",
            "1\n",
            "2\n",
            "3\n",
            "4\n",
            "5\n",
            "Get off, Blyat\n"
          ],
          "name": "stdout"
        }
      ]
    },
    {
      "cell_type": "code",
      "metadata": {
        "colab": {
          "base_uri": "https://localhost:8080/",
          "height": 128
        },
        "id": "tgtT8xPQXJeZ",
        "outputId": "2dfe76e0-3a4d-426e-e52e-82bbc0502ff7"
      },
      "source": [
        "myFriends = [\"John\", \"Nameless\", \"One Mf\", \"Jackoff\", \"Jamal\"]   #List\n",
        "print(\"My gopniks with J:\")\n",
        "for item = in myFriends:\n",
        "  if item[0]== 'J':\n",
        "  print(\"J-boi\")"
      ],
      "execution_count": 15,
      "outputs": [
        {
          "output_type": "error",
          "ename": "SyntaxError",
          "evalue": "ignored",
          "traceback": [
            "\u001b[0;36m  File \u001b[0;32m\"<ipython-input-15-d8f340757f46>\"\u001b[0;36m, line \u001b[0;32m3\u001b[0m\n\u001b[0;31m    for item = in myFriends:\u001b[0m\n\u001b[0m             ^\u001b[0m\n\u001b[0;31mSyntaxError\u001b[0m\u001b[0;31m:\u001b[0m invalid syntax\n"
          ]
        }
      ]
    },
    {
      "cell_type": "code",
      "metadata": {
        "id": "MfgDtBr3XJib"
      },
      "source": [
        ""
      ],
      "execution_count": null,
      "outputs": []
    },
    {
      "cell_type": "code",
      "metadata": {
        "id": "rswip6ZmXJlG"
      },
      "source": [
        ""
      ],
      "execution_count": null,
      "outputs": []
    },
    {
      "cell_type": "code",
      "metadata": {
        "id": "jNF-5y3-XJqA"
      },
      "source": [
        ""
      ],
      "execution_count": null,
      "outputs": []
    }
  ]
}